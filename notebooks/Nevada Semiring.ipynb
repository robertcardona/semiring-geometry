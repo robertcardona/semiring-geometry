{
 "cells": [
  {
   "cell_type": "code",
   "execution_count": 1,
   "metadata": {},
   "outputs": [],
   "source": [
    "import sys\n",
    "from pathlib import Path\n",
    "\n",
    "module_path = str(Path().resolve().parent / \"src\")\n",
    "\n",
    "if module_path not in sys.path:\n",
    "    sys.path.append(module_path)\n",
    "\n",
    "from semiring_geometry import nsr\n",
    "INF = nsr.INF"
   ]
  },
  {
   "cell_type": "code",
   "execution_count": 40,
   "metadata": {},
   "outputs": [
    {
     "name": "stdout",
     "output_type": "stream",
     "text": [
      "[(4, 7), (4, 6), (-3, 0), (-2, 0)]\n"
     ]
    },
    {
     "data": {
      "image/png": "[encoded data removed]",
      "text/plain": [
       "<Figure size 640x480 with 1 Axes>"
      ]
     },
     "metadata": {},
     "output_type": "display_data"
    }
   ],
   "source": [
    "import numpy as np\n",
    "import matplotlib.pyplot as plt\n",
    "\n",
    "INF = nsr.INF\n",
    "\n",
    "def get_ascii_diagram(element) -> str:\n",
    "\n",
    "    boundary = element.get_boundary()\n",
    "    points = [p for p in boundary if INF not in p and -INF not in p]\n",
    "    # print(points)\n",
    "\n",
    "    if len(points) > 0:\n",
    "\n",
    "        start = min([p[0] for p in points])\n",
    "        stop = max([p[1] for p in points])\n",
    "\n",
    "        border = (stop - start) / 6\n",
    "        start, stop = start - border, stop + border\n",
    "    else:\n",
    "        start, stop = 0, 10\n",
    "\n",
    "    indices = np.linspace(start, stop, num=25)\n",
    "\n",
    "    diagram = \"\"\n",
    "    for i in indices:\n",
    "        for j in indices:\n",
    "            value = f\"{element.get_entry(i, j)} \"\n",
    "            # print(f\"{i = }, {j = } : {value = }\")\n",
    "\n",
    "            if element.get_entry(i, j) > 0:\n",
    "                value = \"*\"\n",
    "            else:\n",
    "                value = \"-\"\n",
    "\n",
    "            diagram += value\n",
    "        diagram += \"\\n\"\n",
    "\n",
    "    return diagram\n",
    "\n",
    "def get_heat_map(element):\n",
    "    boundary = element.get_boundary()\n",
    "    print(boundary)\n",
    "    points = [p for p in boundary if INF not in p and -INF not in p]\n",
    "\n",
    "    if len(points) > 0:\n",
    "\n",
    "        start = min([p[0] for p in points])\n",
    "        stop = max([p[1] for p in points])\n",
    "\n",
    "        border = (stop - start) / 6\n",
    "        start, stop = start - border, stop + border\n",
    "    else:\n",
    "        start, stop = 0, 10\n",
    "\n",
    "    indices = np.linspace(start, stop, num=25)\n",
    "\n",
    "\n",
    "    array = [[] for k in indices]\n",
    "    for idx, i in enumerate(indices):\n",
    "        for idy, j in enumerate(indices):\n",
    "            value = element.get_entry(i, j)\n",
    "            array[idx].append(value)\n",
    "    \n",
    "    plt.imshow(array, cmap='hot', interpolation='nearest')\n",
    "    plt.axis('off')\n",
    "    plt.show()\n",
    "\n",
    "    return array\n",
    "\n",
    "# diagram = get_ascii_diagram(nsr.Contact(1, 2, 5))\n",
    "# element = nsr.Contact(1, 2, 5)\n",
    "# element = nsr.Storage(4) * nsr.Contact(0, 1, 0)\n",
    "# diagram = get_ascii_diagram(element)\n",
    "# print(diagram)\n",
    "\n",
    "# element = nsr.Storage()\n",
    "# element = nsr.Contact.identity()\n",
    "# element = nsr.Storage.identity()\n",
    "# element = nsr.Contact(1, 2, 5)\n",
    "# element = nsr.Storage() * nsr.Contact(0, 1, 0)\n",
    "# element = nsr.Storage(4) * nsr.Contact(0, 1, 0)\n",
    "element = nsr.Contact(0, 4, 2) * nsr.Storage(1) * nsr.Contact(0, 4, 0)\n",
    "element = nsr.Contact(-INF, 4, 2) * nsr.Storage(1) * nsr.Contact(0, INF, 0)\n",
    "get_heat_map(element);\n"
   ]
  },
  {
   "cell_type": "code",
   "execution_count": null,
   "metadata": {},
   "outputs": [],
   "source": []
  }
 ],
 "metadata": {
  "kernelspec": {
   "display_name": "soap",
   "language": "python",
   "name": "python3"
  },
  "language_info": {
   "codemirror_mode": {
    "name": "ipython",
    "version": 3
   },
   "file_extension": ".py",
   "mimetype": "text/x-python",
   "name": "python",
   "nbconvert_exporter": "python",
   "pygments_lexer": "ipython3",
   "version": "3.12.6"
  }
 },
 "nbformat": 4,
 "nbformat_minor": 2
}
